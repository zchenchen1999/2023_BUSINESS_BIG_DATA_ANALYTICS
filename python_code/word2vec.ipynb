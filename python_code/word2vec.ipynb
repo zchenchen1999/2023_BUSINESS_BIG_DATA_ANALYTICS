{
 "cells": [
  {
   "attachments": {},
   "cell_type": "markdown",
   "metadata": {},
   "source": [
    "# 有望客字詞關聯圖 - Word2Vec"
   ]
  },
  {
   "cell_type": "code",
   "execution_count": 1,
   "metadata": {},
   "outputs": [],
   "source": [
    "import pandas as pd\n",
    "import numpy as np\n",
    "from gensim.models import word2vec\n",
    "from gensim import models\n",
    "import ast\n",
    "from collections import Counter\n",
    "from pyvis.network import Network"
   ]
  },
  {
   "cell_type": "code",
   "execution_count": 2,
   "metadata": {},
   "outputs": [],
   "source": [
    "df = pd.read_csv('./data/sentiment/nissan_clean_data.csv')\n",
    "df = df[['system_id', 'words']]"
   ]
  },
  {
   "cell_type": "code",
   "execution_count": 3,
   "metadata": {},
   "outputs": [
    {
     "data": {
      "text/html": [
       "<div>\n",
       "<style scoped>\n",
       "    .dataframe tbody tr th:only-of-type {\n",
       "        vertical-align: middle;\n",
       "    }\n",
       "\n",
       "    .dataframe tbody tr th {\n",
       "        vertical-align: top;\n",
       "    }\n",
       "\n",
       "    .dataframe thead th {\n",
       "        text-align: right;\n",
       "    }\n",
       "</style>\n",
       "<table border=\"1\" class=\"dataframe\">\n",
       "  <thead>\n",
       "    <tr style=\"text-align: right;\">\n",
       "      <th></th>\n",
       "      <th>system_id</th>\n",
       "      <th>words</th>\n",
       "    </tr>\n",
       "  </thead>\n",
       "  <tbody>\n",
       "    <tr>\n",
       "      <th>0</th>\n",
       "      <td>1</td>\n",
       "      <td>新聞 小休 熱鬧 好玩 PEUGEOT300815LBlueH</td>\n",
       "    </tr>\n",
       "    <tr>\n",
       "      <th>1</th>\n",
       "      <td>2</td>\n",
       "      <td>情報 2020 11 月份 臺灣汽車 市場 銷售 報告 新增 小七車</td>\n",
       "    </tr>\n",
       "    <tr>\n",
       "      <th>2</th>\n",
       "      <td>3</td>\n",
       "      <td>新聞 豐田 PremioAllionPriusAlpha 明年 停產 標題 房車 轎式 MP...</td>\n",
       "    </tr>\n",
       "    <tr>\n",
       "      <th>3</th>\n",
       "      <td>4</td>\n",
       "      <td>缺點 選車 重點 new juke 試駕 影片 慢慢 釋出 8891 影片 結尾 依舊 提出</td>\n",
       "    </tr>\n",
       "    <tr>\n",
       "      <th>4</th>\n",
       "      <td>5</td>\n",
       "      <td>菜單 NissanAllNEWSentra 尊爵型 Nissan2020All New Se...</td>\n",
       "    </tr>\n",
       "    <tr>\n",
       "      <th>...</th>\n",
       "      <td>...</td>\n",
       "      <td>...</td>\n",
       "    </tr>\n",
       "    <tr>\n",
       "      <th>2074</th>\n",
       "      <td>2459</td>\n",
       "      <td>購車 休旅車 HondaToyotaLexusNissan SUV 1800cc 以內 20...</td>\n",
       "    </tr>\n",
       "    <tr>\n",
       "      <th>2075</th>\n",
       "      <td>2461</td>\n",
       "      <td>售車 Nissan2013BIGTIIDA5 NISSAN 20131 BIG TIIDA ...</td>\n",
       "    </tr>\n",
       "    <tr>\n",
       "      <th>2076</th>\n",
       "      <td>2462</td>\n",
       "      <td>售車 Nissankicks 智行 旗艦版 2019 2019 06 1498 顏色 排檔 ...</td>\n",
       "    </tr>\n",
       "    <tr>\n",
       "      <th>2077</th>\n",
       "      <td>2463</td>\n",
       "      <td>售車 自售 NISSANTEANAJ31200520 2005 06 J31 TEANA 顏...</td>\n",
       "    </tr>\n",
       "    <tr>\n",
       "      <th>2078</th>\n",
       "      <td>2464</td>\n",
       "      <td>Kicks 原廠 避光 物品 名稱 Nissan kicks 避光 物品 狀況 新車 替換 ...</td>\n",
       "    </tr>\n",
       "  </tbody>\n",
       "</table>\n",
       "<p>2079 rows × 2 columns</p>\n",
       "</div>"
      ],
      "text/plain": [
       "      system_id                                              words\n",
       "0             1                    新聞 小休 熱鬧 好玩 PEUGEOT300815LBlueH\n",
       "1             2                 情報 2020 11 月份 臺灣汽車 市場 銷售 報告 新增 小七車\n",
       "2             3  新聞 豐田 PremioAllionPriusAlpha 明年 停產 標題 房車 轎式 MP...\n",
       "3             4     缺點 選車 重點 new juke 試駕 影片 慢慢 釋出 8891 影片 結尾 依舊 提出\n",
       "4             5  菜單 NissanAllNEWSentra 尊爵型 Nissan2020All New Se...\n",
       "...         ...                                                ...\n",
       "2074       2459  購車 休旅車 HondaToyotaLexusNissan SUV 1800cc 以內 20...\n",
       "2075       2461  售車 Nissan2013BIGTIIDA5 NISSAN 20131 BIG TIIDA ...\n",
       "2076       2462  售車 Nissankicks 智行 旗艦版 2019 2019 06 1498 顏色 排檔 ...\n",
       "2077       2463  售車 自售 NISSANTEANAJ31200520 2005 06 J31 TEANA 顏...\n",
       "2078       2464  Kicks 原廠 避光 物品 名稱 Nissan kicks 避光 物品 狀況 新車 替換 ...\n",
       "\n",
       "[2079 rows x 2 columns]"
      ]
     },
     "execution_count": 3,
     "metadata": {},
     "output_type": "execute_result"
    }
   ],
   "source": [
    "df['words'] = df['words'].apply(lambda x: ast.literal_eval(x))\n",
    "df['words'] = df['words'].apply(lambda x: ' '.join(x))\n",
    "df"
   ]
  },
  {
   "cell_type": "code",
   "execution_count": 4,
   "metadata": {},
   "outputs": [],
   "source": [
    "df.to_csv('./data/word2vec/nissan/nissan_w2v.txt', sep='\\t', index=False, header=True, encoding='utf-8')\n"
   ]
  },
  {
   "attachments": {},
   "cell_type": "markdown",
   "metadata": {},
   "source": [
    "### 訓練模型"
   ]
  },
  {
   "cell_type": "code",
   "execution_count": 5,
   "metadata": {},
   "outputs": [],
   "source": [
    "# 讀取已斷詞的資料集\n",
    "sentences = []\n",
    "with open('./data/word2vec/nissan/nissan_w2v.txt', 'r', encoding='utf-8') as file:\n",
    "    for line in file:\n",
    "        # 假設每行是以空白分隔的詞彙\n",
    "        words = line.strip().split()\n",
    "        sentences.append(words)\n",
    "model = word2vec.Word2Vec(sentences, sg=1, window=6, min_count=30, workers=4, vector_size=250)\n",
    "\n",
    "# 保存模型，供日後使用\n",
    "model.save(\"./data/word2vec/nissan/nissan_word2vec.model\")"
   ]
  },
  {
   "attachments": {},
   "cell_type": "markdown",
   "metadata": {},
   "source": [
    "查看相關詞彙"
   ]
  },
  {
   "cell_type": "code",
   "execution_count": 6,
   "metadata": {},
   "outputs": [
    {
     "name": "stdout",
     "output_type": "stream",
     "text": [
      "焦點 0.8884727358818054\n",
      "FOCUS 0.8857243061065674\n",
      "不輸 0.8750547170639038\n",
      "這代 0.8691617250442505\n",
      "哪台 0.8635929226875305\n",
      "佛心 0.8542863726615906\n",
      "買馬 0.8442227840423584\n",
      "camry 0.8440051674842834\n",
      "結案 0.8421916365623474\n",
      "沒力 0.8360468745231628\n"
     ]
    }
   ],
   "source": [
    "# 可以使用model.wv.most_similar()來查詢相似詞彙\n",
    "similar_words = model.wv.most_similar('altis', topn=10)\n",
    "for word, similarity in similar_words:\n",
    "    print(word, similarity)"
   ]
  },
  {
   "attachments": {},
   "cell_type": "markdown",
   "metadata": {},
   "source": [
    "### 依據資料集的詞頻去找相關字詞"
   ]
  },
  {
   "attachments": {},
   "cell_type": "markdown",
   "metadata": {},
   "source": [
    "詞頻計算，只保留`前100個`最相關的字詞"
   ]
  },
  {
   "cell_type": "code",
   "execution_count": 7,
   "metadata": {},
   "outputs": [],
   "source": [
    "# 將所有的詞彙合併為一個大字串\n",
    "all_words = ' '.join(df['words'])"
   ]
  },
  {
   "cell_type": "code",
   "execution_count": 8,
   "metadata": {},
   "outputs": [],
   "source": [
    "# 使用Counter計算詞頻\n",
    "word_counts = Counter(all_words.split())\n",
    "\n",
    "count_df = pd.DataFrame.from_dict(word_counts, orient='index').reset_index()\n",
    "count_df.columns = ['word', 'freq']\n",
    "count_df.sort_values(ascending=False, by='freq',inplace=True)"
   ]
  },
  {
   "cell_type": "code",
   "execution_count": 9,
   "metadata": {},
   "outputs": [
    {
     "data": {
      "text/html": [
       "<div>\n",
       "<style scoped>\n",
       "    .dataframe tbody tr th:only-of-type {\n",
       "        vertical-align: middle;\n",
       "    }\n",
       "\n",
       "    .dataframe tbody tr th {\n",
       "        vertical-align: top;\n",
       "    }\n",
       "\n",
       "    .dataframe thead th {\n",
       "        text-align: right;\n",
       "    }\n",
       "</style>\n",
       "<table border=\"1\" class=\"dataframe\">\n",
       "  <thead>\n",
       "    <tr style=\"text-align: right;\">\n",
       "      <th></th>\n",
       "      <th>word</th>\n",
       "      <th>freq</th>\n",
       "    </tr>\n",
       "  </thead>\n",
       "  <tbody>\n",
       "    <tr>\n",
       "      <th>474</th>\n",
       "      <td>問題</td>\n",
       "      <td>1497</td>\n",
       "    </tr>\n",
       "    <tr>\n",
       "      <th>317</th>\n",
       "      <td>空間</td>\n",
       "      <td>1019</td>\n",
       "    </tr>\n",
       "    <tr>\n",
       "      <th>312</th>\n",
       "      <td>價格</td>\n",
       "      <td>851</td>\n",
       "    </tr>\n",
       "    <tr>\n",
       "      <th>97</th>\n",
       "      <td>業務</td>\n",
       "      <td>812</td>\n",
       "    </tr>\n",
       "    <tr>\n",
       "      <th>61</th>\n",
       "      <td>原廠</td>\n",
       "      <td>776</td>\n",
       "    </tr>\n",
       "    <tr>\n",
       "      <th>...</th>\n",
       "      <td>...</td>\n",
       "      <td>...</td>\n",
       "    </tr>\n",
       "    <tr>\n",
       "      <th>276</th>\n",
       "      <td>內裝</td>\n",
       "      <td>246</td>\n",
       "    </tr>\n",
       "    <tr>\n",
       "      <th>921</th>\n",
       "      <td>歐洲</td>\n",
       "      <td>245</td>\n",
       "    </tr>\n",
       "    <tr>\n",
       "      <th>3325</th>\n",
       "      <td>朋友</td>\n",
       "      <td>242</td>\n",
       "    </tr>\n",
       "    <tr>\n",
       "      <th>1162</th>\n",
       "      <td>外觀</td>\n",
       "      <td>240</td>\n",
       "    </tr>\n",
       "    <tr>\n",
       "      <th>667</th>\n",
       "      <td>希望</td>\n",
       "      <td>239</td>\n",
       "    </tr>\n",
       "  </tbody>\n",
       "</table>\n",
       "<p>100 rows × 2 columns</p>\n",
       "</div>"
      ],
      "text/plain": [
       "     word  freq\n",
       "474    問題  1497\n",
       "317    空間  1019\n",
       "312    價格   851\n",
       "97     業務   812\n",
       "61     原廠   776\n",
       "...   ...   ...\n",
       "276    內裝   246\n",
       "921    歐洲   245\n",
       "3325   朋友   242\n",
       "1162   外觀   240\n",
       "667    希望   239\n",
       "\n",
       "[100 rows x 2 columns]"
      ]
     },
     "execution_count": 9,
     "metadata": {},
     "output_type": "execute_result"
    }
   ],
   "source": [
    "count_df = count_df.head(100)\n",
    "\n",
    "count_df"
   ]
  },
  {
   "attachments": {},
   "cell_type": "markdown",
   "metadata": {},
   "source": [
    "建立字詞correlation"
   ]
  },
  {
   "cell_type": "code",
   "execution_count": 10,
   "metadata": {},
   "outputs": [],
   "source": [
    "df_most_correlation = pd.DataFrame(columns=['item1', 'item2', 'correlation'])"
   ]
  },
  {
   "attachments": {},
   "cell_type": "markdown",
   "metadata": {},
   "source": [
    "定義相關字詞函式"
   ]
  },
  {
   "cell_type": "code",
   "execution_count": 11,
   "metadata": {},
   "outputs": [],
   "source": [
    "def get_top_similar_word(word, n):\n",
    "    similar_words = model.wv.most_similar(word, topn=n)\n",
    "    return similar_words"
   ]
  },
  {
   "cell_type": "code",
   "execution_count": 12,
   "metadata": {},
   "outputs": [],
   "source": [
    "for index, row in count_df.iterrows():\n",
    "    try:\n",
    "        topn = get_top_similar_word(row['word'], 10)\n",
    "    except:\n",
    "        print(row['word'])\n",
    "        continue\n",
    "    for item in topn:\n",
    "        tmp = {'item1': row['word'], 'item2': item[0], 'correlation': str(item[1])}\n",
    "        df_most_correlation = pd.concat([df_most_correlation, pd.DataFrame([tmp])], ignore_index=True)\n"
   ]
  },
  {
   "cell_type": "code",
   "execution_count": 13,
   "metadata": {},
   "outputs": [
    {
     "data": {
      "text/html": [
       "<div>\n",
       "<style scoped>\n",
       "    .dataframe tbody tr th:only-of-type {\n",
       "        vertical-align: middle;\n",
       "    }\n",
       "\n",
       "    .dataframe tbody tr th {\n",
       "        vertical-align: top;\n",
       "    }\n",
       "\n",
       "    .dataframe thead th {\n",
       "        text-align: right;\n",
       "    }\n",
       "</style>\n",
       "<table border=\"1\" class=\"dataframe\">\n",
       "  <thead>\n",
       "    <tr style=\"text-align: right;\">\n",
       "      <th></th>\n",
       "      <th>item1</th>\n",
       "      <th>item2</th>\n",
       "      <th>correlation</th>\n",
       "    </tr>\n",
       "  </thead>\n",
       "  <tbody>\n",
       "    <tr>\n",
       "      <th>0</th>\n",
       "      <td>問題</td>\n",
       "      <td>解決</td>\n",
       "      <td>0.7724317312240601</td>\n",
       "    </tr>\n",
       "    <tr>\n",
       "      <th>1</th>\n",
       "      <td>問題</td>\n",
       "      <td>幾天</td>\n",
       "      <td>0.6958567500114441</td>\n",
       "    </tr>\n",
       "    <tr>\n",
       "      <th>2</th>\n",
       "      <td>問題</td>\n",
       "      <td>類似</td>\n",
       "      <td>0.6942410469055176</td>\n",
       "    </tr>\n",
       "    <tr>\n",
       "      <th>3</th>\n",
       "      <td>問題</td>\n",
       "      <td>機率</td>\n",
       "      <td>0.6894322633743286</td>\n",
       "    </tr>\n",
       "    <tr>\n",
       "      <th>4</th>\n",
       "      <td>問題</td>\n",
       "      <td>還沒</td>\n",
       "      <td>0.6886370778083801</td>\n",
       "    </tr>\n",
       "    <tr>\n",
       "      <th>...</th>\n",
       "      <td>...</td>\n",
       "      <td>...</td>\n",
       "      <td>...</td>\n",
       "    </tr>\n",
       "    <tr>\n",
       "      <th>995</th>\n",
       "      <td>希望</td>\n",
       "      <td>來信</td>\n",
       "      <td>0.7825292348861694</td>\n",
       "    </tr>\n",
       "    <tr>\n",
       "      <th>996</th>\n",
       "      <td>希望</td>\n",
       "      <td>附上</td>\n",
       "      <td>0.7821965217590332</td>\n",
       "    </tr>\n",
       "    <tr>\n",
       "      <th>997</th>\n",
       "      <td>希望</td>\n",
       "      <td>照片</td>\n",
       "      <td>0.7769221663475037</td>\n",
       "    </tr>\n",
       "    <tr>\n",
       "      <th>998</th>\n",
       "      <td>希望</td>\n",
       "      <td>禮拜</td>\n",
       "      <td>0.76861572265625</td>\n",
       "    </tr>\n",
       "    <tr>\n",
       "      <th>999</th>\n",
       "      <td>希望</td>\n",
       "      <td>幫忙</td>\n",
       "      <td>0.7670949101448059</td>\n",
       "    </tr>\n",
       "  </tbody>\n",
       "</table>\n",
       "<p>1000 rows × 3 columns</p>\n",
       "</div>"
      ],
      "text/plain": [
       "    item1 item2         correlation\n",
       "0      問題    解決  0.7724317312240601\n",
       "1      問題    幾天  0.6958567500114441\n",
       "2      問題    類似  0.6942410469055176\n",
       "3      問題    機率  0.6894322633743286\n",
       "4      問題    還沒  0.6886370778083801\n",
       "..    ...   ...                 ...\n",
       "995    希望    來信  0.7825292348861694\n",
       "996    希望    附上  0.7821965217590332\n",
       "997    希望    照片  0.7769221663475037\n",
       "998    希望    禮拜    0.76861572265625\n",
       "999    希望    幫忙  0.7670949101448059\n",
       "\n",
       "[1000 rows x 3 columns]"
      ]
     },
     "execution_count": 13,
     "metadata": {},
     "output_type": "execute_result"
    }
   ],
   "source": [
    "df_most_correlation"
   ]
  },
  {
   "cell_type": "code",
   "execution_count": 14,
   "metadata": {},
   "outputs": [],
   "source": [
    "df_most_correlation.to_csv('./data/word2vec/nissan/nissan_correlation.csv', encoding='utf-8')"
   ]
  },
  {
   "attachments": {},
   "cell_type": "markdown",
   "metadata": {},
   "source": [
    "### 視覺化呈現"
   ]
  },
  {
   "cell_type": "code",
   "execution_count": 37,
   "metadata": {},
   "outputs": [],
   "source": [
    "network = pd.read_csv('./data/word2vec/nissan/nissan_correlation.csv')"
   ]
  },
  {
   "cell_type": "code",
   "execution_count": 38,
   "metadata": {},
   "outputs": [
    {
     "data": {
      "text/html": [
       "<div>\n",
       "<style scoped>\n",
       "    .dataframe tbody tr th:only-of-type {\n",
       "        vertical-align: middle;\n",
       "    }\n",
       "\n",
       "    .dataframe tbody tr th {\n",
       "        vertical-align: top;\n",
       "    }\n",
       "\n",
       "    .dataframe thead th {\n",
       "        text-align: right;\n",
       "    }\n",
       "</style>\n",
       "<table border=\"1\" class=\"dataframe\">\n",
       "  <thead>\n",
       "    <tr style=\"text-align: right;\">\n",
       "      <th></th>\n",
       "      <th>Unnamed: 0</th>\n",
       "      <th>item1</th>\n",
       "      <th>item2</th>\n",
       "      <th>correlation</th>\n",
       "    </tr>\n",
       "  </thead>\n",
       "  <tbody>\n",
       "    <tr>\n",
       "      <th>0</th>\n",
       "      <td>0</td>\n",
       "      <td>問題</td>\n",
       "      <td>解決</td>\n",
       "      <td>0.772432</td>\n",
       "    </tr>\n",
       "    <tr>\n",
       "      <th>1</th>\n",
       "      <td>1</td>\n",
       "      <td>問題</td>\n",
       "      <td>幾天</td>\n",
       "      <td>0.695857</td>\n",
       "    </tr>\n",
       "    <tr>\n",
       "      <th>2</th>\n",
       "      <td>2</td>\n",
       "      <td>問題</td>\n",
       "      <td>類似</td>\n",
       "      <td>0.694241</td>\n",
       "    </tr>\n",
       "    <tr>\n",
       "      <th>3</th>\n",
       "      <td>3</td>\n",
       "      <td>問題</td>\n",
       "      <td>機率</td>\n",
       "      <td>0.689432</td>\n",
       "    </tr>\n",
       "    <tr>\n",
       "      <th>4</th>\n",
       "      <td>4</td>\n",
       "      <td>問題</td>\n",
       "      <td>還沒</td>\n",
       "      <td>0.688637</td>\n",
       "    </tr>\n",
       "    <tr>\n",
       "      <th>...</th>\n",
       "      <td>...</td>\n",
       "      <td>...</td>\n",
       "      <td>...</td>\n",
       "      <td>...</td>\n",
       "    </tr>\n",
       "    <tr>\n",
       "      <th>995</th>\n",
       "      <td>995</td>\n",
       "      <td>希望</td>\n",
       "      <td>來信</td>\n",
       "      <td>0.782529</td>\n",
       "    </tr>\n",
       "    <tr>\n",
       "      <th>996</th>\n",
       "      <td>996</td>\n",
       "      <td>希望</td>\n",
       "      <td>附上</td>\n",
       "      <td>0.782197</td>\n",
       "    </tr>\n",
       "    <tr>\n",
       "      <th>997</th>\n",
       "      <td>997</td>\n",
       "      <td>希望</td>\n",
       "      <td>照片</td>\n",
       "      <td>0.776922</td>\n",
       "    </tr>\n",
       "    <tr>\n",
       "      <th>998</th>\n",
       "      <td>998</td>\n",
       "      <td>希望</td>\n",
       "      <td>禮拜</td>\n",
       "      <td>0.768616</td>\n",
       "    </tr>\n",
       "    <tr>\n",
       "      <th>999</th>\n",
       "      <td>999</td>\n",
       "      <td>希望</td>\n",
       "      <td>幫忙</td>\n",
       "      <td>0.767095</td>\n",
       "    </tr>\n",
       "  </tbody>\n",
       "</table>\n",
       "<p>1000 rows × 4 columns</p>\n",
       "</div>"
      ],
      "text/plain": [
       "     Unnamed: 0 item1 item2  correlation\n",
       "0             0    問題    解決     0.772432\n",
       "1             1    問題    幾天     0.695857\n",
       "2             2    問題    類似     0.694241\n",
       "3             3    問題    機率     0.689432\n",
       "4             4    問題    還沒     0.688637\n",
       "..          ...   ...   ...          ...\n",
       "995         995    希望    來信     0.782529\n",
       "996         996    希望    附上     0.782197\n",
       "997         997    希望    照片     0.776922\n",
       "998         998    希望    禮拜     0.768616\n",
       "999         999    希望    幫忙     0.767095\n",
       "\n",
       "[1000 rows x 4 columns]"
      ]
     },
     "execution_count": 38,
     "metadata": {},
     "output_type": "execute_result"
    }
   ],
   "source": [
    "network"
   ]
  },
  {
   "cell_type": "code",
   "execution_count": 39,
   "metadata": {},
   "outputs": [
    {
     "data": {
      "text/plain": [
       "numpy.float64"
      ]
     },
     "execution_count": 39,
     "metadata": {},
     "output_type": "execute_result"
    }
   ],
   "source": [
    "type(network.loc[1,'correlation'])"
   ]
  },
  {
   "cell_type": "code",
   "execution_count": 51,
   "metadata": {},
   "outputs": [],
   "source": [
    "network2 = network[(network['correlation'] > 0.75) & (network['correlation'] < 0.8)]"
   ]
  },
  {
   "cell_type": "code",
   "execution_count": 52,
   "metadata": {},
   "outputs": [
    {
     "data": {
      "text/plain": [
       "292"
      ]
     },
     "execution_count": 52,
     "metadata": {},
     "output_type": "execute_result"
    }
   ],
   "source": [
    "# 將所有的詞彙合併為一個大字串\n",
    "all_nodes = pd.unique(network2[['item1', 'item2']].values.ravel())\n",
    "\n",
    "len(all_nodes)\n",
    "# all_nodes"
   ]
  },
  {
   "attachments": {},
   "cell_type": "markdown",
   "metadata": {},
   "source": [
    "#### Pyvis網路圖"
   ]
  },
  {
   "cell_type": "code",
   "execution_count": 116,
   "metadata": {},
   "outputs": [],
   "source": [
    "Cor_Graph = {}\n",
    "correlation_net = Network(height='550px',width=\"100%\")\n",
    "nid=1"
   ]
  },
  {
   "cell_type": "code",
   "execution_count": 117,
   "metadata": {},
   "outputs": [],
   "source": [
    "# 加入 node\n",
    "for i in network['item1']:\n",
    "    if (i not in Cor_Graph.keys()): \n",
    "        correlation_net.add_node(n_id=nid, \n",
    "                            label=i, \n",
    "                            )\n",
    "        Cor_Graph[i] = nid\n",
    "        nid += 1\n",
    "\n",
    "for i in network['item2']:\n",
    "        if (i not in Cor_Graph.keys()): \n",
    "            correlation_net.add_node(n_id=nid, \n",
    "                                label=i, \n",
    "                                )\n",
    "            Cor_Graph[i] = nid\n",
    "            nid += 1\n",
    "\n",
    "# 加入 edge\n",
    "for i, row in network.iterrows():\n",
    "    # print(row['item1'])\n",
    "    correlation_net.add_edge(Cor_Graph[row['item1']], Cor_Graph[row['item2']], weight=row['correlation'], title=row['correlation'], value=row['correlation'])\n"
   ]
  },
  {
   "cell_type": "code",
   "execution_count": 118,
   "metadata": {},
   "outputs": [],
   "source": [
    "correlation_net.save_graph('./html_files/nissan_w2v.html')"
   ]
  }
 ],
 "metadata": {
  "kernelspec": {
   "display_name": "Python 3",
   "language": "python",
   "name": "python3"
  },
  "language_info": {
   "codemirror_mode": {
    "name": "ipython",
    "version": 3
   },
   "file_extension": ".py",
   "mimetype": "text/x-python",
   "name": "python",
   "nbconvert_exporter": "python",
   "pygments_lexer": "ipython3",
   "version": "3.9.13"
  },
  "orig_nbformat": 4
 },
 "nbformat": 4,
 "nbformat_minor": 2
}
