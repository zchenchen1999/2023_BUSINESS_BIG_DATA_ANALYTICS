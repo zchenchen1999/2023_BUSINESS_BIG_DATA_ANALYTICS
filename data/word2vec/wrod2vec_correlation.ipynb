{
 "cells": [
  {
   "attachments": {},
   "cell_type": "markdown",
   "metadata": {},
   "source": [
    "# 面試趣 Word2Vec - 算字詞間相似度"
   ]
  },
  {
   "cell_type": "code",
   "execution_count": 1,
   "metadata": {},
   "outputs": [],
   "source": [
    "import pandas as pd\n",
    "import numpy as np\n",
    "from gensim.models import word2vec\n",
    "from gensim import models\n",
    "import ast\n"
   ]
  },
  {
   "cell_type": "code",
   "execution_count": 90,
   "metadata": {},
   "outputs": [
    {
     "data": {
      "text/html": [
       "<div>\n",
       "<style scoped>\n",
       "    .dataframe tbody tr th:only-of-type {\n",
       "        vertical-align: middle;\n",
       "    }\n",
       "\n",
       "    .dataframe tbody tr th {\n",
       "        vertical-align: top;\n",
       "    }\n",
       "\n",
       "    .dataframe thead th {\n",
       "        text-align: right;\n",
       "    }\n",
       "</style>\n",
       "<table border=\"1\" class=\"dataframe\">\n",
       "  <thead>\n",
       "    <tr style=\"text-align: right;\">\n",
       "      <th></th>\n",
       "      <th>system_id</th>\n",
       "      <th>result</th>\n",
       "    </tr>\n",
       "  </thead>\n",
       "  <tbody>\n",
       "    <tr>\n",
       "      <th>0</th>\n",
       "      <td>1</td>\n",
       "      <td>['運動', '休旅車', '正夯', '熱鬧', '車長', 'mm', '區塊', '國...</td>\n",
       "    </tr>\n",
       "    <tr>\n",
       "      <th>1</th>\n",
       "      <td>2</td>\n",
       "      <td>['toyota', 'cc', '年式', '油電', '豪華', '另計', '需綁',...</td>\n",
       "    </tr>\n",
       "    <tr>\n",
       "      <th>2</th>\n",
       "      <td>3</td>\n",
       "      <td>['打破', '車壇', '史上', '單月', '銷售', '台數', '銷量', '超過...</td>\n",
       "    </tr>\n",
       "    <tr>\n",
       "      <th>3</th>\n",
       "      <td>4</td>\n",
       "      <td>['預計', '明年', '現身', 'toyota', 'rav', '將推', '動力'...</td>\n",
       "    </tr>\n",
       "    <tr>\n",
       "      <th>4</th>\n",
       "      <td>5</td>\n",
       "      <td>['新一代', 'mazda', '有望', '沿用', 'yaris', '平台', 'c...</td>\n",
       "    </tr>\n",
       "    <tr>\n",
       "      <th>...</th>\n",
       "      <td>...</td>\n",
       "      <td>...</td>\n",
       "    </tr>\n",
       "    <tr>\n",
       "      <th>10610</th>\n",
       "      <td>10611</td>\n",
       "      <td>['認為', '逼車', '行駛', '右側', '金門', '鄉親', '小心', '銀色...</td>\n",
       "    </tr>\n",
       "    <tr>\n",
       "      <th>10611</th>\n",
       "      <td>10612</td>\n",
       "      <td>['陣子', '機車', 'altis', '交通', '號誌', '十字路口', '相撞'...</td>\n",
       "    </tr>\n",
       "    <tr>\n",
       "      <th>10612</th>\n",
       "      <td>10613</td>\n",
       "      <td>['事情', '那天', '騎著', '機車', '路邊', '逆向', '對面', '轉格...</td>\n",
       "    </tr>\n",
       "    <tr>\n",
       "      <th>10613</th>\n",
       "      <td>10614</td>\n",
       "      <td>['描述', '事發', '過程', '忘記', '提到', '重要', '事情', '車禍...</td>\n",
       "    </tr>\n",
       "    <tr>\n",
       "      <th>10614</th>\n",
       "      <td>10615</td>\n",
       "      <td>['預計', '年底', '入手', '檔車', '這也會', '第一台', '檔車', '...</td>\n",
       "    </tr>\n",
       "  </tbody>\n",
       "</table>\n",
       "<p>10615 rows × 2 columns</p>\n",
       "</div>"
      ],
      "text/plain": [
       "       system_id                                             result\n",
       "0              1  ['運動', '休旅車', '正夯', '熱鬧', '車長', 'mm', '區塊', '國...\n",
       "1              2  ['toyota', 'cc', '年式', '油電', '豪華', '另計', '需綁',...\n",
       "2              3  ['打破', '車壇', '史上', '單月', '銷售', '台數', '銷量', '超過...\n",
       "3              4  ['預計', '明年', '現身', 'toyota', 'rav', '將推', '動力'...\n",
       "4              5  ['新一代', 'mazda', '有望', '沿用', 'yaris', '平台', 'c...\n",
       "...          ...                                                ...\n",
       "10610      10611  ['認為', '逼車', '行駛', '右側', '金門', '鄉親', '小心', '銀色...\n",
       "10611      10612  ['陣子', '機車', 'altis', '交通', '號誌', '十字路口', '相撞'...\n",
       "10612      10613  ['事情', '那天', '騎著', '機車', '路邊', '逆向', '對面', '轉格...\n",
       "10613      10614  ['描述', '事發', '過程', '忘記', '提到', '重要', '事情', '車禍...\n",
       "10614      10615  ['預計', '年底', '入手', '檔車', '這也會', '第一台', '檔車', '...\n",
       "\n",
       "[10615 rows x 2 columns]"
      ]
     },
     "execution_count": 90,
     "metadata": {},
     "output_type": "execute_result"
    }
   ],
   "source": [
    "df = pd.read_csv('./data/toyota/case01_toyota.csv', sep=',', header=0)\n",
    "df"
   ]
  },
  {
   "cell_type": "code",
   "execution_count": 91,
   "metadata": {},
   "outputs": [
    {
     "data": {
      "text/html": [
       "<div>\n",
       "<style scoped>\n",
       "    .dataframe tbody tr th:only-of-type {\n",
       "        vertical-align: middle;\n",
       "    }\n",
       "\n",
       "    .dataframe tbody tr th {\n",
       "        vertical-align: top;\n",
       "    }\n",
       "\n",
       "    .dataframe thead th {\n",
       "        text-align: right;\n",
       "    }\n",
       "</style>\n",
       "<table border=\"1\" class=\"dataframe\">\n",
       "  <thead>\n",
       "    <tr style=\"text-align: right;\">\n",
       "      <th></th>\n",
       "      <th>system_id</th>\n",
       "      <th>result</th>\n",
       "    </tr>\n",
       "  </thead>\n",
       "  <tbody>\n",
       "    <tr>\n",
       "      <th>0</th>\n",
       "      <td>1</td>\n",
       "      <td>運動 休旅車 正夯 熱鬧 車長 mm 區塊 國產車 toyota corolla cros ...</td>\n",
       "    </tr>\n",
       "    <tr>\n",
       "      <th>1</th>\n",
       "      <td>2</td>\n",
       "      <td>toyota cc 年式 油電 豪華 另計 需綁 乙式 實報實銷 另計 實報實銷 成交 價格...</td>\n",
       "    </tr>\n",
       "    <tr>\n",
       "      <th>2</th>\n",
       "      <td>3</td>\n",
       "      <td>打破 車壇 史上 單月 銷售 台數 銷量 超過 納智捷 整年 車系 目標 證明 台灣人 越來...</td>\n",
       "    </tr>\n",
       "    <tr>\n",
       "      <th>3</th>\n",
       "      <td>4</td>\n",
       "      <td>預計 明年 現身 toyota rav 將推 動力 節能 碳排放 政策 豐田 集團 終於 加...</td>\n",
       "    </tr>\n",
       "    <tr>\n",
       "      <th>4</th>\n",
       "      <td>5</td>\n",
       "      <td>新一代 mazda 有望 沿用 yaris 平台 cx 辦理 有待 查證 內文 提到 歐洲 ...</td>\n",
       "    </tr>\n",
       "    <tr>\n",
       "      <th>...</th>\n",
       "      <td>...</td>\n",
       "      <td>...</td>\n",
       "    </tr>\n",
       "    <tr>\n",
       "      <th>10610</th>\n",
       "      <td>10611</td>\n",
       "      <td>認為 逼車 行駛 右側 金門 鄉親 小心 銀色 toyota corona 車牌 今晚 環島...</td>\n",
       "    </tr>\n",
       "    <tr>\n",
       "      <th>10611</th>\n",
       "      <td>10612</td>\n",
       "      <td>陣子 機車 altis 交通 號誌 十字路口 相撞 肇事 責任 示意圖 imgur 藍色 黃...</td>\n",
       "    </tr>\n",
       "    <tr>\n",
       "      <th>10612</th>\n",
       "      <td>10613</td>\n",
       "      <td>事情 那天 騎著 機車 路邊 逆向 對面 轉格 待轉 白目 那天 發什麼 神經 逆向 突然 ...</td>\n",
       "    </tr>\n",
       "    <tr>\n",
       "      <th>10613</th>\n",
       "      <td>10614</td>\n",
       "      <td>描述 事發 過程 忘記 提到 重要 事情 車禍 受傷 發生 車禍 事故 發生 騎車 機車道 ...</td>\n",
       "    </tr>\n",
       "    <tr>\n",
       "      <th>10614</th>\n",
       "      <td>10615</td>\n",
       "      <td>預計 年底 入手 檔車 這也會 第一台 檔車 當初 想要 msx 爬文 crossfire ...</td>\n",
       "    </tr>\n",
       "  </tbody>\n",
       "</table>\n",
       "<p>10615 rows × 2 columns</p>\n",
       "</div>"
      ],
      "text/plain": [
       "       system_id                                             result\n",
       "0              1  運動 休旅車 正夯 熱鬧 車長 mm 區塊 國產車 toyota corolla cros ...\n",
       "1              2  toyota cc 年式 油電 豪華 另計 需綁 乙式 實報實銷 另計 實報實銷 成交 價格...\n",
       "2              3  打破 車壇 史上 單月 銷售 台數 銷量 超過 納智捷 整年 車系 目標 證明 台灣人 越來...\n",
       "3              4  預計 明年 現身 toyota rav 將推 動力 節能 碳排放 政策 豐田 集團 終於 加...\n",
       "4              5  新一代 mazda 有望 沿用 yaris 平台 cx 辦理 有待 查證 內文 提到 歐洲 ...\n",
       "...          ...                                                ...\n",
       "10610      10611  認為 逼車 行駛 右側 金門 鄉親 小心 銀色 toyota corona 車牌 今晚 環島...\n",
       "10611      10612  陣子 機車 altis 交通 號誌 十字路口 相撞 肇事 責任 示意圖 imgur 藍色 黃...\n",
       "10612      10613  事情 那天 騎著 機車 路邊 逆向 對面 轉格 待轉 白目 那天 發什麼 神經 逆向 突然 ...\n",
       "10613      10614  描述 事發 過程 忘記 提到 重要 事情 車禍 受傷 發生 車禍 事故 發生 騎車 機車道 ...\n",
       "10614      10615  預計 年底 入手 檔車 這也會 第一台 檔車 當初 想要 msx 爬文 crossfire ...\n",
       "\n",
       "[10615 rows x 2 columns]"
      ]
     },
     "execution_count": 91,
     "metadata": {},
     "output_type": "execute_result"
    }
   ],
   "source": [
    "df['result'] = df['result'].apply(lambda x: ast.literal_eval(x))\n",
    "df['result'] = df['result'].apply(lambda x: ' '.join(x))\n",
    "df"
   ]
  },
  {
   "cell_type": "code",
   "execution_count": 92,
   "metadata": {},
   "outputs": [],
   "source": [
    "output = open('./data/toyota/toyota_w2v.txt', 'w')\n",
    "for index, row in df.iterrows():\n",
    "    # tmp = row['result'].split(\",\")\n",
    "    output.write(row['result'] + '\\n')"
   ]
  },
  {
   "attachments": {},
   "cell_type": "markdown",
   "metadata": {},
   "source": [
    "## 實作 word2vec"
   ]
  },
  {
   "attachments": {},
   "cell_type": "markdown",
   "metadata": {},
   "source": [
    "訓練 model"
   ]
  },
  {
   "cell_type": "code",
   "execution_count": 63,
   "metadata": {},
   "outputs": [],
   "source": [
    "sentences = word2vec.LineSentence(\"./data/ford/ford_w2v.txt\")\n",
    "model = word2vec.Word2Vec(sentences, sg=1, window=6, min_count=30, workers=6, vector_size=250)\n",
    "\n",
    "# 保存模型，供日後使用\n",
    "model.save(\"./data/ford/word2vec.model\")\n",
    "\n",
    "# 模型讀取方式\n",
    "# model = word2vec.Word2Vec.load(\"your_model_name\")"
   ]
  },
  {
   "attachments": {},
   "cell_type": "markdown",
   "metadata": {},
   "source": [
    "## 根據 word 前 n 個相關詞"
   ]
  },
  {
   "attachments": {},
   "cell_type": "markdown",
   "metadata": {},
   "source": [
    "load model"
   ]
  },
  {
   "cell_type": "code",
   "execution_count": 66,
   "metadata": {},
   "outputs": [],
   "source": [
    "from gensim import models\n",
    "model = models.Word2Vec.load('./data/ford/word2vec.model')"
   ]
  },
  {
   "attachments": {},
   "cell_type": "markdown",
   "metadata": {},
   "source": [
    "測試"
   ]
  },
  {
   "cell_type": "code",
   "execution_count": 78,
   "metadata": {},
   "outputs": [
    {
     "name": "stdout",
     "output_type": "stream",
     "text": [
      "輸入一個詞，則去尋找前十個該詞的相似詞\n",
      "相似詞前 10 排序\n",
      "活得,0.5614586472511292\n",
      "修得,0.5458086133003235\n",
      "福特車,0.5350620150566101\n",
      "痛快,0.5283123850822449\n",
      "買過,0.5255555510520935\n",
      "精采,0.5228757262229919\n",
      "nford,0.5218576788902283\n",
      "如題,0.5177111625671387\n",
      "六和,0.5162533521652222\n",
      "主修,0.5140368342399597\n"
     ]
    }
   ],
   "source": [
    "print(\"輸入一個詞，則去尋找前十個該詞的相似詞\")           \n",
    "query = \"福特\"         \n",
    "print(\"相似詞前 10 排序\")                \n",
    "res = model.wv.most_similar(query, topn=10)                \n",
    "for item in res:                    \n",
    "    print(item[0] + \",\" + str(item[1]))"
   ]
  },
  {
   "attachments": {},
   "cell_type": "markdown",
   "metadata": {},
   "source": [
    "定意函式：給一個 word 回傳前 n 個最相關詞"
   ]
  },
  {
   "cell_type": "code",
   "execution_count": 68,
   "metadata": {},
   "outputs": [],
   "source": [
    "def get_top6_similar_word(word):\n",
    "    res = model.wv.most_similar(word, topn=10)\n",
    "    return res"
   ]
  },
  {
   "attachments": {},
   "cell_type": "markdown",
   "metadata": {},
   "source": [
    "根據詞頻高的字去找"
   ]
  },
  {
   "cell_type": "code",
   "execution_count": 70,
   "metadata": {},
   "outputs": [
    {
     "data": {
      "text/html": [
       "<div>\n",
       "<style scoped>\n",
       "    .dataframe tbody tr th:only-of-type {\n",
       "        vertical-align: middle;\n",
       "    }\n",
       "\n",
       "    .dataframe tbody tr th {\n",
       "        vertical-align: top;\n",
       "    }\n",
       "\n",
       "    .dataframe thead th {\n",
       "        text-align: right;\n",
       "    }\n",
       "</style>\n",
       "<table border=\"1\" class=\"dataframe\">\n",
       "  <thead>\n",
       "    <tr style=\"text-align: right;\">\n",
       "      <th></th>\n",
       "      <th>word</th>\n",
       "      <th>freq</th>\n",
       "    </tr>\n",
       "  </thead>\n",
       "  <tbody>\n",
       "    <tr>\n",
       "      <th>0</th>\n",
       "      <td>福特</td>\n",
       "      <td>7142</td>\n",
       "    </tr>\n",
       "    <tr>\n",
       "      <th>1</th>\n",
       "      <td>問題</td>\n",
       "      <td>4905</td>\n",
       "    </tr>\n",
       "    <tr>\n",
       "      <th>2</th>\n",
       "      <td>業務</td>\n",
       "      <td>3825</td>\n",
       "    </tr>\n",
       "    <tr>\n",
       "      <th>3</th>\n",
       "      <td>原廠</td>\n",
       "      <td>3742</td>\n",
       "    </tr>\n",
       "    <tr>\n",
       "      <th>4</th>\n",
       "      <td>Focus</td>\n",
       "      <td>2984</td>\n",
       "    </tr>\n",
       "    <tr>\n",
       "      <th>...</th>\n",
       "      <td>...</td>\n",
       "      <td>...</td>\n",
       "    </tr>\n",
       "    <tr>\n",
       "      <th>195</th>\n",
       "      <td>以下</td>\n",
       "      <td>601</td>\n",
       "    </tr>\n",
       "    <tr>\n",
       "      <th>196</th>\n",
       "      <td>12</td>\n",
       "      <td>600</td>\n",
       "    </tr>\n",
       "    <tr>\n",
       "      <th>197</th>\n",
       "      <td>11</td>\n",
       "      <td>599</td>\n",
       "    </tr>\n",
       "    <tr>\n",
       "      <th>198</th>\n",
       "      <td>兩個</td>\n",
       "      <td>598</td>\n",
       "    </tr>\n",
       "    <tr>\n",
       "      <th>199</th>\n",
       "      <td>影響</td>\n",
       "      <td>596</td>\n",
       "    </tr>\n",
       "  </tbody>\n",
       "</table>\n",
       "<p>200 rows × 2 columns</p>\n",
       "</div>"
      ],
      "text/plain": [
       "      word  freq\n",
       "0       福特  7142\n",
       "1       問題  4905\n",
       "2       業務  3825\n",
       "3       原廠  3742\n",
       "4    Focus  2984\n",
       "..     ...   ...\n",
       "195     以下   601\n",
       "196     12   600\n",
       "197     11   599\n",
       "198     兩個   598\n",
       "199     影響   596\n",
       "\n",
       "[200 rows x 2 columns]"
      ]
     },
     "execution_count": 70,
     "metadata": {},
     "output_type": "execute_result"
    }
   ],
   "source": [
    "df_aspect = pd.read_csv('./data/ford/case01_ford_freq.csv', sep=',', header=0)\n",
    "df_aspect = df_aspect.head(200)\n",
    "df_aspect"
   ]
  },
  {
   "cell_type": "code",
   "execution_count": 74,
   "metadata": {},
   "outputs": [],
   "source": [
    "df_most_correlation = pd.DataFrame(columns=['item1', 'item2', 'correlation'])"
   ]
  },
  {
   "cell_type": "code",
   "execution_count": 75,
   "metadata": {},
   "outputs": [
    {
     "name": "stdout",
     "output_type": "stream",
     "text": [
      "Focus\n",
      "Ford\n",
      "Kuga\n",
      "CC\n",
      "Toyota\n",
      "15\n",
      "ST\n",
      "Active\n",
      "KUGA\n",
      "CRV\n",
      "RAV4\n",
      "30\n",
      "ACC\n",
      "SUV\n",
      "2021\n",
      "100\n",
      "180\n",
      "QQ\n",
      "12\n",
      "11\n"
     ]
    }
   ],
   "source": [
    "for index, row in df_aspect.iterrows():\n",
    "    try:\n",
    "        top6 = get_top6_similar_word(row['word'])\n",
    "    except:\n",
    "        print(row['word'])\n",
    "        continue\n",
    "    for item in top6:\n",
    "        tmp = {'item1': row['word'], 'item2': item[0], 'correlation': str(item[1])}\n",
    "        df_most_correlation = df_most_correlation.append(tmp, ignore_index = True)"
   ]
  },
  {
   "cell_type": "code",
   "execution_count": 76,
   "metadata": {},
   "outputs": [
    {
     "data": {
      "text/html": [
       "<div>\n",
       "<style scoped>\n",
       "    .dataframe tbody tr th:only-of-type {\n",
       "        vertical-align: middle;\n",
       "    }\n",
       "\n",
       "    .dataframe tbody tr th {\n",
       "        vertical-align: top;\n",
       "    }\n",
       "\n",
       "    .dataframe thead th {\n",
       "        text-align: right;\n",
       "    }\n",
       "</style>\n",
       "<table border=\"1\" class=\"dataframe\">\n",
       "  <thead>\n",
       "    <tr style=\"text-align: right;\">\n",
       "      <th></th>\n",
       "      <th>item1</th>\n",
       "      <th>item2</th>\n",
       "      <th>correlation</th>\n",
       "    </tr>\n",
       "  </thead>\n",
       "  <tbody>\n",
       "    <tr>\n",
       "      <th>0</th>\n",
       "      <td>福特</td>\n",
       "      <td>活得</td>\n",
       "      <td>0.5614586472511292</td>\n",
       "    </tr>\n",
       "    <tr>\n",
       "      <th>1</th>\n",
       "      <td>福特</td>\n",
       "      <td>修得</td>\n",
       "      <td>0.5458086133003235</td>\n",
       "    </tr>\n",
       "    <tr>\n",
       "      <th>2</th>\n",
       "      <td>福特</td>\n",
       "      <td>福特車</td>\n",
       "      <td>0.5350620150566101</td>\n",
       "    </tr>\n",
       "    <tr>\n",
       "      <th>3</th>\n",
       "      <td>福特</td>\n",
       "      <td>痛快</td>\n",
       "      <td>0.5283123850822449</td>\n",
       "    </tr>\n",
       "    <tr>\n",
       "      <th>4</th>\n",
       "      <td>福特</td>\n",
       "      <td>買過</td>\n",
       "      <td>0.5255555510520935</td>\n",
       "    </tr>\n",
       "    <tr>\n",
       "      <th>...</th>\n",
       "      <td>...</td>\n",
       "      <td>...</td>\n",
       "      <td>...</td>\n",
       "    </tr>\n",
       "    <tr>\n",
       "      <th>1795</th>\n",
       "      <td>影響</td>\n",
       "      <td>減少</td>\n",
       "      <td>0.5463711619377136</td>\n",
       "    </tr>\n",
       "    <tr>\n",
       "      <th>1796</th>\n",
       "      <td>影響</td>\n",
       "      <td>車用</td>\n",
       "      <td>0.5366078019142151</td>\n",
       "    </tr>\n",
       "    <tr>\n",
       "      <th>1797</th>\n",
       "      <td>影響</td>\n",
       "      <td>不佳</td>\n",
       "      <td>0.5202406048774719</td>\n",
       "    </tr>\n",
       "    <tr>\n",
       "      <th>1798</th>\n",
       "      <td>影響</td>\n",
       "      <td>供應</td>\n",
       "      <td>0.5129908323287964</td>\n",
       "    </tr>\n",
       "    <tr>\n",
       "      <th>1799</th>\n",
       "      <td>影響</td>\n",
       "      <td>供應鏈</td>\n",
       "      <td>0.5100172758102417</td>\n",
       "    </tr>\n",
       "  </tbody>\n",
       "</table>\n",
       "<p>1800 rows × 3 columns</p>\n",
       "</div>"
      ],
      "text/plain": [
       "     item1 item2         correlation\n",
       "0       福特    活得  0.5614586472511292\n",
       "1       福特    修得  0.5458086133003235\n",
       "2       福特   福特車  0.5350620150566101\n",
       "3       福特    痛快  0.5283123850822449\n",
       "4       福特    買過  0.5255555510520935\n",
       "...    ...   ...                 ...\n",
       "1795    影響    減少  0.5463711619377136\n",
       "1796    影響    車用  0.5366078019142151\n",
       "1797    影響    不佳  0.5202406048774719\n",
       "1798    影響    供應  0.5129908323287964\n",
       "1799    影響   供應鏈  0.5100172758102417\n",
       "\n",
       "[1800 rows x 3 columns]"
      ]
     },
     "execution_count": 76,
     "metadata": {},
     "output_type": "execute_result"
    }
   ],
   "source": [
    "df_most_correlation"
   ]
  },
  {
   "cell_type": "code",
   "execution_count": 77,
   "metadata": {},
   "outputs": [],
   "source": [
    "df_most_correlation.to_csv('./data/ford/ford_correlation.csv', encoding='utf-8')"
   ]
  },
  {
   "attachments": {},
   "cell_type": "markdown",
   "metadata": {},
   "source": [
    "跟據構面去找"
   ]
  },
  {
   "cell_type": "code",
   "execution_count": null,
   "metadata": {},
   "outputs": [],
   "source": [
    "薪水\n",
    "特休\n",
    "三節獎金\n",
    "年終\n",
    "加班\n",
    "輪班\n",
    "性能\n",
    "馬力\n",
    "動力\n",
    "外觀\n",
    "操控\n",
    "安全\n",
    "堅固\n",
    "舒適\n",
    "價錢\n",
    "科技\n",
    "品質\n",
    "抽獎\n",
    "好禮\n",
    "徵才\n",
    "實習\n",
    "工作\n",
    "人資\n",
    "離職\n",
    "轉職\n",
    "新鮮人\n",
    "畢業\n",
    "出路\n",
    "電資\n",
    "機械\n",
    "製造\n",
    "車輛工程\n",
    "品管\n",
    "傳產"
   ]
  }
 ],
 "metadata": {
  "kernelspec": {
   "display_name": "sma",
   "language": "python",
   "name": "python3"
  },
  "language_info": {
   "codemirror_mode": {
    "name": "ipython",
    "version": 3
   },
   "file_extension": ".py",
   "mimetype": "text/x-python",
   "name": "python",
   "nbconvert_exporter": "python",
   "pygments_lexer": "ipython3",
   "version": "3.7.13"
  },
  "orig_nbformat": 4
 },
 "nbformat": 4,
 "nbformat_minor": 2
}
